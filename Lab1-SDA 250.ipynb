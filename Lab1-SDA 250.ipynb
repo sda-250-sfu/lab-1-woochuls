{
 "cells": [
  {
   "cell_type": "code",
   "execution_count": 1,
   "metadata": {},
   "outputs": [
    {
     "name": "stdout",
     "output_type": "stream",
     "text": [
      "Welcome to SDA 250!\n",
      "Using the 'insert' tab add a code block and change its type to \"markdown\" using the drop-down bar. \n",
      "In that markdown block write a short introduction about why you are taking this course.\n",
      "Don't forget to add your name at the top as a header.\n",
      "Also add a bullet list of the top 3 skills you want to learn in this course.\n"
     ]
    }
   ],
   "source": [
    "print(\"Welcome to SDA 250!\")\n",
    "print(\"Using the 'insert' tab add a code block and change its type to \\\"markdown\\\" using the drop-down bar. \")\n",
    "print(\"In that markdown block write a short introduction about why you are taking this course.\")\n",
    "print(\"Don't forget to add your name at the top as a header.\")\n",
    "print(\"Also add a bullet list of the top 3 skills you want to learn in this course.\")"
   ]
  },
  {
   "cell_type": "markdown",
   "metadata": {},
   "source": [
    "# Woochul Song\n",
    "## My name is Woochul and I'm majoring Political-Science and minoring SDA and Business. I'm taking this course because it is a required course for my SDA minor program. I'm currently working at Trasport Canada in Civil Aviation and I'm thinking about using SDA in my department. The skills I would like to learn in this course are: \n",
    "- Coding \n",
    "- Analyzing the data \n",
    "- How I can use the learnings I've learned in real-work settings"
   ]
  },
  {
   "cell_type": "code",
   "execution_count": 3,
   "metadata": {},
   "outputs": [
    {
     "name": "stdout",
     "output_type": "stream",
     "text": [
      "I have no programming experience other than than a little bit of interaction with R program.\n"
     ]
    }
   ],
   "source": [
    "print(\"I have no programming experience other than than a little bit of interaction with R program.\")"
   ]
  },
  {
   "cell_type": "code",
   "execution_count": 80,
   "metadata": {},
   "outputs": [
    {
     "name": "stdout",
     "output_type": "stream",
     "text": [
      "Woochul\n",
      "27\n",
      "name\n",
      "age\n"
     ]
    }
   ],
   "source": [
    "name = \"Woochul\"\n",
    "age = 27\n",
    "\n",
    "print(name)\n",
    "print(age)\n",
    "\n",
    "# if we put quotation marks around the variable name it will just print the name of the variable\n",
    "print(\"name\")\n",
    "print(\"age\")"
   ]
  },
  {
   "cell_type": "code",
   "execution_count": 77,
   "metadata": {},
   "outputs": [
    {
     "name": "stdout",
     "output_type": "stream",
     "text": [
      "September 17, 1993\n",
      "Simon Fraser University\n",
      "birthday\n",
      "school\n"
     ]
    }
   ],
   "source": [
    "birthday = \"September 17, 1993\" \n",
    "school = \"Simon Fraser University\"\n",
    "\n",
    "print(birthday)\n",
    "print(school)\n",
    "\n",
    "# they will print \"September 17, 1993\" and \"Simon Fraser Univeristy\" respectively.\n",
    "\n",
    "print(\"birthday\")\n",
    "print(\"school\")\n",
    "\n",
    "# If I put quotation marks around the two variables, that will print the name of their variables, \"birthday\" and \"school\" respectively.."
   ]
  },
  {
   "cell_type": "code",
   "execution_count": 19,
   "metadata": {},
   "outputs": [
    {
     "name": "stdout",
     "output_type": "stream",
     "text": [
      "3\n"
     ]
    }
   ],
   "source": [
    "# this will print: 3\n",
    "print(1+2)"
   ]
  },
  {
   "cell_type": "code",
   "execution_count": 22,
   "metadata": {},
   "outputs": [
    {
     "name": "stdout",
     "output_type": "stream",
     "text": [
      "12\n"
     ]
    }
   ],
   "source": [
    "# this will print: 12\n",
    "print(3*4)"
   ]
  },
  {
   "cell_type": "code",
   "execution_count": 24,
   "metadata": {},
   "outputs": [
    {
     "name": "stdout",
     "output_type": "stream",
     "text": [
      "5\n"
     ]
    }
   ],
   "source": [
    "x = 10\n",
    "y = 5\n",
    "\n",
    "# this will print: 5\n",
    "print(x - y)"
   ]
  },
  {
   "cell_type": "code",
   "execution_count": 26,
   "metadata": {},
   "outputs": [
    {
     "name": "stdout",
     "output_type": "stream",
     "text": [
      "15\n",
      "number2\n",
      "5.0\n"
     ]
    }
   ],
   "source": [
    "number1 = 15\n",
    "number2 = 3\n",
    "result = number1 / number2\n",
    "\n",
    "# this will print: 15\n",
    "print(number1)\n",
    "\n",
    "# this will print: number2\n",
    "print(\"number2\")\n",
    "\n",
    "# this will print: 5\n",
    "print(result)"
   ]
  },
  {
   "cell_type": "code",
   "execution_count": 81,
   "metadata": {},
   "outputs": [
    {
     "name": "stdout",
     "output_type": "stream",
     "text": [
      "TaylorWilliams\n"
     ]
    }
   ],
   "source": [
    "firstName = \"Taylor\"\n",
    "lastName = \"Williams\"\n",
    "fullName = firstName + lastName\n",
    "\n",
    "# this will print: TaylorWilliams (no space)\n",
    "print(fullName)"
   ]
  },
  {
   "cell_type": "code",
   "execution_count": 82,
   "metadata": {},
   "outputs": [
    {
     "name": "stdout",
     "output_type": "stream",
     "text": [
      "Taylor Williams\n",
      "Taylor Williams\n"
     ]
    }
   ],
   "source": [
    "fullName = firstName + \" \" + lastName\n",
    "\n",
    "# This will print the correct full name\n",
    "print(fullName)\n",
    "\n",
    "# You could also add the space in the print satemetn itself\n",
    "print(firstName + \" \" + lastName)"
   ]
  },
  {
   "cell_type": "code",
   "execution_count": 99,
   "metadata": {},
   "outputs": [
    {
     "name": "stdout",
     "output_type": "stream",
     "text": [
      "Woochul Song\n"
     ]
    },
    {
     "ename": "TypeError",
     "evalue": "'str' object is not callable",
     "output_type": "error",
     "traceback": [
      "\u001b[0;31m---------------------------------------------------------------------------\u001b[0m",
      "\u001b[0;31mTypeError\u001b[0m                                 Traceback (most recent call last)",
      "\u001b[0;32m<ipython-input-99-d1abcd1c60f7>\u001b[0m in \u001b[0;36m<module>\u001b[0;34m\u001b[0m\n\u001b[1;32m      6\u001b[0m \u001b[0;34m\u001b[0m\u001b[0m\n\u001b[1;32m      7\u001b[0m \u001b[0mprint\u001b[0m\u001b[0;34m(\u001b[0m\u001b[0mfirstName\u001b[0m \u001b[0;34m+\u001b[0m \u001b[0;34m\" \"\u001b[0m \u001b[0;34m+\u001b[0m \u001b[0mlastName\u001b[0m\u001b[0;34m)\u001b[0m\u001b[0;34m\u001b[0m\u001b[0;34m\u001b[0m\u001b[0m\n\u001b[0;32m----> 8\u001b[0;31m \u001b[0mprint\u001b[0m\u001b[0;34m(\u001b[0m\u001b[0mpreferredName\u001b[0m\u001b[0;34m(\u001b[0m\u001b[0mpreferredPronouns\u001b[0m\u001b[0;34m)\u001b[0m\u001b[0;34m)\u001b[0m\u001b[0;34m\u001b[0m\u001b[0;34m\u001b[0m\u001b[0m\n\u001b[0m\u001b[1;32m      9\u001b[0m \u001b[0mprint\u001b[0m\u001b[0;34m(\u001b[0m\u001b[0mfavoriteNumber\u001b[0m\u001b[0;34m)\u001b[0m\u001b[0;34m\u001b[0m\u001b[0;34m\u001b[0m\u001b[0m\n",
      "\u001b[0;31mTypeError\u001b[0m: 'str' object is not callable"
     ]
    }
   ],
   "source": [
    "firstName = \"Woochul\"\n",
    "lastName = \"Song\"\n",
    "preferredName = \"Woochul\"\n",
    "preferredPronouns = \"He\"\n",
    "favoriteNumber = \"13\"\n",
    "\n",
    "print(firstName + \" \" + lastName)\n",
    "print(preferredName(preferredPronouns))\n",
    "print(favoriteNumber)\n"
   ]
  },
  {
   "cell_type": "code",
   "execution_count": 68,
   "metadata": {},
   "outputs": [
    {
     "name": "stdout",
     "output_type": "stream",
     "text": [
      "169\n"
     ]
    }
   ],
   "source": [
    "print(13*13)"
   ]
  },
  {
   "cell_type": "code",
   "execution_count": 69,
   "metadata": {},
   "outputs": [
    {
     "name": "stdout",
     "output_type": "stream",
     "text": [
      "26\n"
     ]
    }
   ],
   "source": [
    "print(13+13)"
   ]
  },
  {
   "cell_type": "code",
   "execution_count": 70,
   "metadata": {},
   "outputs": [
    {
     "name": "stdout",
     "output_type": "stream",
     "text": [
      "0\n"
     ]
    }
   ],
   "source": [
    "print(13-13)"
   ]
  },
  {
   "cell_type": "code",
   "execution_count": 71,
   "metadata": {},
   "outputs": [
    {
     "name": "stdout",
     "output_type": "stream",
     "text": [
      "1.0\n"
     ]
    }
   ],
   "source": [
    "print(13/13)"
   ]
  },
  {
   "cell_type": "code",
   "execution_count": 72,
   "metadata": {},
   "outputs": [
    {
     "name": "stdout",
     "output_type": "stream",
     "text": [
      "0\n"
     ]
    }
   ],
   "source": [
    "x = 13\n",
    "y = 13\n",
    "\n",
    "print(x - y)"
   ]
  },
  {
   "cell_type": "code",
   "execution_count": 73,
   "metadata": {},
   "outputs": [
    {
     "name": "stdout",
     "output_type": "stream",
     "text": [
      "13\n",
      "number2\n",
      "1.0\n"
     ]
    }
   ],
   "source": [
    "number1 = 13\n",
    "number2 = 13\n",
    "result = number1 / number2\n",
    "\n",
    "print(number1)\n",
    "\n",
    "print(\"number2\")\n",
    "\n",
    "print(result)"
   ]
  },
  {
   "cell_type": "markdown",
   "metadata": {},
   "source": [
    "# Minute Paper Number 2\n",
    "\n",
    "## First, customers should have a transparent view of whether their data is being used. A lot of times, they usually don't have the access to whether their information/data is being manipulated or being used.  Second, organizations should be careful using the data to dividing people into groups and judge their identity based on how they are divided (e.g. dividing them into a high class or lower class)."
   ]
  }
 ],
 "metadata": {
  "kernelspec": {
   "display_name": "Python 3",
   "language": "python",
   "name": "python3"
  },
  "language_info": {
   "codemirror_mode": {
    "name": "ipython",
    "version": 3
   },
   "file_extension": ".py",
   "mimetype": "text/x-python",
   "name": "python",
   "nbconvert_exporter": "python",
   "pygments_lexer": "ipython3",
   "version": "3.8.5"
  }
 },
 "nbformat": 4,
 "nbformat_minor": 4
}
