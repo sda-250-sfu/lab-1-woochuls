{
 "cells": [
  {
   "cell_type": "code",
   "execution_count": 76,
   "metadata": {},
   "outputs": [
    {
     "name": "stdout",
     "output_type": "stream",
     "text": [
      "<div class=\"the_review\" data-qa=\"review-text\">\r\n",
      "                    Sure,Black Panther is a mainstream superhero movie with jaw-dropping action, balletic fight scenes, and CGI spectacle, but it is also a measured and extraordinary exploration of race and pride.\r\n",
      "                </div>\n",
      "<div class=\"the_review\" data-qa=\"review-text\">\r\n",
      "                    A taut triumph of Afrofuturist iconography realized in the propulsive, widescreen language of the superhero-blockbuster fantasy, and an elevation of that genre on every front.\r\n",
      "                </div>\n",
      "<div class=\"the_review\" data-qa=\"review-text\">\r\n",
      "                    Just about the same as every other Marvel title.\r\n",
      "                </div>\n",
      "<div class=\"the_review\" data-qa=\"review-text\">\r\n",
      "                    Here's the thing: you can enjoy Black Panther without having seen a single Marvel film beforehand. It is a stand-alone gem...\r\n",
      "                </div>\n",
      "<div class=\"the_review\" data-qa=\"review-text\">\r\n",
      "                    As the new king, T'Challa has to wrestle with a few issues that seem topical in today's society.\r\n",
      "                </div>\n",
      "<div class=\"the_review\" data-qa=\"review-text\">\r\n",
      "                    Brilliantly brought to life by the production design by Hannah Beachler and the costume design by Ruth E. Carter.\r\n",
      "                </div>\n",
      "<div class=\"the_review\" data-qa=\"review-text\">\r\n",
      "                    You know there must be something special about a superhero movie, an action superhero movie at that, to get my mother to see that movie. And not just once.\r\n",
      "                </div>\n",
      "<div class=\"the_review\" data-qa=\"review-text\">\r\n",
      "                    A dream come true! Near Perfection!\r\n",
      "                </div>\n",
      "<div class=\"the_review\" data-qa=\"review-text\">\r\n",
      "                    Black Panther is likely Marvel's most politically inspired film to date.\r\n",
      "                </div>\n",
      "<div class=\"the_review\" data-qa=\"review-text\">\r\n",
      "                    Believe the hype: This is a superhero flick unlike any we've ever seen, crafted by the unstoppable Ryan Coogler.\r\n",
      "                </div>\n",
      "<div class=\"the_review\" data-qa=\"review-text\">\r\n",
      "                    Black Panther not only stands up as a Hollywood blockbuster but conveys an adult and chronological context that touches upon slavery, the Civil Rights movement, Black Lives Matter and the current African-American plight.\r\n",
      "                </div>\n",
      "<div class=\"the_review\" data-qa=\"review-text\">\r\n",
      "                    Coogler firmly sports his crown in blurring the lines between the cultural importance Black Panther is set to play in bringing down the dinosaur illusions of Hollywood.\r\n",
      "                </div>\n",
      "<div class=\"the_review\" data-qa=\"review-text\">\r\n",
      "                    It's still somewhat overstuffed with an excess of characters and some undeniable hiccups in regards to pacing, but its filmmaking is slick, and the cast oozes charisma.\r\n",
      "                </div>\n",
      "<div class=\"the_review\" data-qa=\"review-text\">\r\n",
      "                    Black Panther is not just a superhero flick, it's a meaningful cultural hit that shows the power of diversity to tear down walls. [Full review in Spanish]\r\n",
      "                </div>\n",
      "<div class=\"the_review\" data-qa=\"review-text\">\r\n",
      "                    Does \"Black Panther\" occasionally fall into predictable superhero traps? Yes. But it also feels like the work of a filmmaker with a specific vision, one he more or less executes.\r\n",
      "                </div>\n",
      "<div class=\"the_review\" data-qa=\"review-text\">\r\n",
      "                    Groundbreaking? No doubt. An absolute unmitigated triumph? Time will tell, but from where I stand, not quite.\r\n",
      "                </div>\n",
      "<div class=\"the_review\" data-qa=\"review-text\">\r\n",
      "                    Black Panther is one of the best steps forward for the MCU in many ways: In story, characters, cinematography, its combination of score and music. Basically its whole package. It is one of the strongest and most inspiring films in the entire franchise.\r\n",
      "                </div>\n",
      "<div class=\"the_review\" data-qa=\"review-text\">\r\n",
      "                    It is not the best superhero movie that boast around so much, but it is one where you can have a good time. [Full review in Spanish]\r\n",
      "                </div>\n",
      "<div class=\"the_review\" data-qa=\"review-text\">\r\n",
      "                    Black Panther may be long over due, but there was nothing about this film that didn't feel less than exactly what it should have or could have been.\r\n",
      "                </div>\n",
      "<div class=\"the_review\" data-qa=\"review-text\">\r\n",
      "                    Boseman has such charisma, charm, depth and grace, it's as easy to believe him as a king as it is to see him do insane acrobatics as a superhero.\r\n",
      "                </div>\n"
     ]
    }
   ],
   "source": [
    "# import the requests module and beautifulsoup\n",
    "import requests\n",
    "from bs4 import BeautifulSoup as bs\n",
    "\n",
    "# first we open a new session which allows us to access websites using python\n",
    "mySession = requests.session()\n",
    "\n",
    "# next we retrieve the website\n",
    "response = mySession.get(\"https://www.rottentomatoes.com/m/black_panther_2018/reviews?type=&sort=&page=1\")\n",
    "\n",
    "# now we use beautifulsoup to retrieve and parse the html content\n",
    "# this allows us to search for the review tags and retrieve them in the next step\n",
    "soup = bs(response.content, 'html.parser')\n",
    "\n",
    "# the soup variable contains the parsed html content which we will search through for reviews\n",
    "# the findAll() function will find all blocks of html code that are assigned the \"the_review\" class\n",
    "articleFeed = soup.findAll(\"div\", {\"class\": \"the_review\"})\n",
    "\n",
    "# we can loop through the reviews and print them to make sure our code is working\n",
    "for review in articleFeed:\n",
    "    print(review)\n",
    "    "
   ]
  },
  {
   "cell_type": "code",
   "execution_count": 77,
   "metadata": {},
   "outputs": [],
   "source": [
    "# loop 24 times\n",
    "\n",
    "reviewers = []\n",
    "reviewText = []\n",
    "\n",
    "for i in range(24):\n",
    "    # note that we format the string using i+1\n",
    "    # since the for loop starts at i=0 and ends at i=23 but we need i=1 to i=24\n",
    "    response = mySession.get(\"https://www.rottentomatoes.com/m/black_panther_2018/reviews?type=&sort=&page=%s\" % str(i+1))\n",
    "    soup = bs(response.content, 'html.parser')\n",
    "    \n",
    "    # we find the table containing the reviews\n",
    "    reviewTable = soup.find(\"div\", {\"class\": \"review_table\"})\n",
    "    \n",
    "    # We retrieve the name of the reviewer\n",
    "    # notice that we are using 3 classes in the select command to find the correct html element\n",
    "    \n",
    "    reviewers += [r.get_text() for r in reviewTable.select(\".review_table_row .critic_name .articleLink\")]\n",
    "    \n",
    "    # retrieve the review text\n",
    "    \n",
    "    reviewText += [t.get_text() for t in reviewTable.select(\".review_table_row .the_review\")]\n"
   ]
  },
  {
   "cell_type": "code",
   "execution_count": 78,
   "metadata": {},
   "outputs": [
    {
     "name": "stdout",
     "output_type": "stream",
     "text": [
      "                reviewers                                         reviewText\n",
      "0           Jeffrey Zhang  \\r\\n                    Sure,Black Panther is ...\n",
      "1          Isaac Feldberg  \\r\\n                    A taut triumph of Afro...\n",
      "2             Mike Massie  \\r\\n                    Just about the same as...\n",
      "3               Dan Buffa  \\r\\n                    Here's the thing: you ...\n",
      "4     Paul McGuire Grimes  \\r\\n                    As the new king, T'Cha...\n",
      "..                    ...                                                ...\n",
      "475  Katherine McLaughlin  \\r\\n                    The incredibly stellar...\n",
      "476         Emma Simmonds  \\r\\n                    Yet it's The Walking D...\n",
      "477             Liz Braun  \\r\\n                    Black Panther is every...\n",
      "478         Rodrigo Perez  \\r\\n                    Once \"Black Panther\" g...\n",
      "479         David Ehrlich  \\r\\n                    You believe in T'Chall...\n",
      "\n",
      "[480 rows x 2 columns]\n"
     ]
    }
   ],
   "source": [
    "# now that we have the data store it to a dataframe\n",
    "# COMPLETE THE CODE:\n",
    "\n",
    "import pandas as pd\n",
    "\n",
    "d = {\"reviewers\":reviewers, \"reviewText\":reviewText}\n",
    "\n",
    "df = pd.DataFrame(d)\n",
    "\n",
    "print(df)"
   ]
  },
  {
   "cell_type": "code",
   "execution_count": 85,
   "metadata": {},
   "outputs": [
    {
     "name": "stdout",
     "output_type": "stream",
     "text": [
      "<div class=\"entry\"><p class=\"partial_entry\">Ordered Christmas dinner`s for some shut in family members and McKenzie the manger went above and beyond to make sure it was going to happen she was pleasant and so friendly.I thing she one of Santa`s helpers.</p></div>\n",
      "<div class=\"entry\"><p class=\"partial_entry\">First time here for weekend brunch and our experienced was very good. The place is very busy and we waited 15 minutes to be seated. The place is practicing distancing on tables and staff are wearing masks. The breakfast food we ordered was realy good....<span class=\"postSnippet\">Shredded Hashbrown is my favorite. Price is reasonable.</span><span class=\"taLnk ulBlueLinks\" onclick=\"widgetEvCall('handlers.clickExpand',event,this);\">More</span></p></div>\n",
      "<div class=\"entry\"><p class=\"partial_entry\">Tonight was our 1st time at Home Restaurant. We were soooo impressed with the Quantity and Quality of Food!! Well priced and soooo delicious!! Staff was very friendly. Restaurant was very well maintained in this Covid-Virus. We definetly will go back. 5 stars in our...<span class=\"postSnippet\">opinion.</span><span class=\"taLnk ulBlueLinks\" onclick=\"widgetEvCall('handlers.clickExpand',event,this);\">More</span></p></div>\n",
      "<div class=\"entry\"><p class=\"partial_entry\">Stopped here for brunch on a Sunday morning, restaurant was busy, however we had just a short wait. Our breakfasts were very tasty and our server (Mary G.) did a great job ensuring that we had a good dining experience.</p></div>\n",
      "<div class=\"entry\"><p class=\"partial_entry\">Thank you for taking the time to review.  We are happy to hear that you enjoyed your visit and we look forward to serving you again!</p></div>\n",
      "<div class=\"entry\"><p class=\"partial_entry\">It is what a family run restaurant should be.  Nothing fancy, but very friendly people, fast service, and great food.  Which is why it is usually pretty busy.  Everyone loves the place.</p></div>\n",
      "<div class=\"entry\"><p class=\"partial_entry\">Thank you for the review.   We look forward to serving you again :)</p></div>\n",
      "<div class=\"entry\"><p class=\"partial_entry\">Very nice people, good food and service. Highly recommend. Easy access off Lougheed Highway. Good hours.</p></div>\n",
      "<div class=\"entry\"><p class=\"partial_entry\">I go to the restaurant a couple times month and I'm  always greeted by their friendly staff,they always get my order right The food is great!!!</p></div>\n",
      "<div class=\"entry\"><p class=\"partial_entry\">I just finished eating the Salisbury steak and eggs.\n",
      "They were cooked perfectly, the steak was good on its own without any gravy.\n",
      "I asked for and received mixed vegetables instead of potatoes etc(I’m on Keto diet)\n",
      "They were al dente’ and with a hint...<span class=\"postSnippet\">of butter.\n",
      "My wife’s clam chowder was good as well.\n",
      "Their pies look amazing, resisted them though☺️</span><span class=\"taLnk ulBlueLinks\" onclick=\"widgetEvCall('handlers.clickExpand',event,this);\">More</span></p></div>\n",
      "<div class=\"entry\"><p class=\"partial_entry\">We stopped into this ‘Home’ on a recent Sunday morning - seeking an early-am breakfast, on a trip which was to eventually take us east, and into Manning Provincial Park.  The restaurant was not far from home, and conveniently-located on the route we had chosen...<span class=\"postSnippet\">for the first part of our trip.  We pulled into their parking lot about 8 am.\n",
      "\n",
      "Good, friendly, and cordial service from entry-to-leaving.  And for us, a menu that offered some decent choices - just what we wanted, some solid breakfast ‘basics’, and not a lot of ‘extras’ we did not want to include.\n",
      "\n",
      "Mom went with the ’Senior’s Bacon and Egg’ (one scrambled egg, two slices of bacon, with shredded hashbrown potatoes, and slice of rye toast) — daughter and I each ordered an ’Eggs Only Breakfast’ (two scrambled eggs, shredded hashbrown potatoes, sourdough toast for her, and rye toast for me).  Perfectly-sized portions, nice and hot from the kitchen, and very well prepared ingredients.  \n",
      "\n",
      "In and out in rather short order, after much-enjoyed breakfast meals — feeling refreshed, and ready to head away for a few days in the mountains.</span><span class=\"taLnk ulBlueLinks\" onclick=\"widgetEvCall('handlers.clickExpand',event,this);\">More</span></p></div>\n",
      "<div class=\"entry\"><p class=\"partial_entry\">Go Food, good  service, good atmosphere, good prices    something for everyone   especially their pies  will go again when visiting</p></div>\n"
     ]
    }
   ],
   "source": [
    "# import the requests module and beautifulsoup\n",
    "import requests\n",
    "from bs4 import BeautifulSoup as bs\n",
    "\n",
    "# first we open a new session which allows us to access websites using python\n",
    "mySession = requests.session()\n",
    "\n",
    "# next we retrieve the website\n",
    "response = mySession.get(\"https://www.tripadvisor.ca/Restaurant_Review-g182186-d968524-Reviews-Home_Restaurant-Maple_Ridge_British_Columbia.html\")\n",
    "# now we use beautifulsoup to retrieve and parse the html content\n",
    "# this allows us to search for the review tags and retrieve them in the next step\n",
    "soup = bs(response.content, 'html.parser')\n",
    "\n",
    "# the soup variable contains the parsed html content which we will search through for reviews\n",
    "# the findAll() function will find all blocks of html code that are assigned the \"the_review\" class\n",
    "articleFeed = soup.findAll(\"div\", {\"class\": \"entry\"})\n",
    "\n",
    "# we can loop through the reviews and print them to make sure our code is working\n",
    "for review in articleFeed:\n",
    "    print(review)\n",
    "    "
   ]
  },
  {
   "cell_type": "code",
   "execution_count": 86,
   "metadata": {},
   "outputs": [
    {
     "ename": "TypeError",
     "evalue": "not all arguments converted during string formatting",
     "output_type": "error",
     "traceback": [
      "\u001b[0;31m---------------------------------------------------------------------------\u001b[0m",
      "\u001b[0;31mTypeError\u001b[0m                                 Traceback (most recent call last)",
      "\u001b[0;32m<ipython-input-86-d6009b13ccc5>\u001b[0m in \u001b[0;36m<module>\u001b[0;34m\u001b[0m\n\u001b[1;32m      7\u001b[0m     \u001b[0;31m# note that we format the string using i+1\u001b[0m\u001b[0;34m\u001b[0m\u001b[0;34m\u001b[0m\u001b[0;34m\u001b[0m\u001b[0m\n\u001b[1;32m      8\u001b[0m     \u001b[0;31m# since the for loop starts at i=0 and ends at i=23 but we need i=1 to i=24\u001b[0m\u001b[0;34m\u001b[0m\u001b[0;34m\u001b[0m\u001b[0;34m\u001b[0m\u001b[0m\n\u001b[0;32m----> 9\u001b[0;31m     \u001b[0mresponse\u001b[0m \u001b[0;34m=\u001b[0m \u001b[0mmySession\u001b[0m\u001b[0;34m.\u001b[0m\u001b[0mget\u001b[0m\u001b[0;34m(\u001b[0m\u001b[0;34m\"https://www.tripadvisor.ca/Restaurant_Review-g182186-d968524-Reviews-Home_Restaurant-Maple_Ridge_British_Columbia.html\"\u001b[0m \u001b[0;34m%\u001b[0m \u001b[0mstr\u001b[0m\u001b[0;34m(\u001b[0m\u001b[0mi\u001b[0m\u001b[0;34m+\u001b[0m\u001b[0;36m1\u001b[0m\u001b[0;34m)\u001b[0m\u001b[0;34m)\u001b[0m\u001b[0;34m\u001b[0m\u001b[0;34m\u001b[0m\u001b[0m\n\u001b[0m\u001b[1;32m     10\u001b[0m     \u001b[0msoup\u001b[0m \u001b[0;34m=\u001b[0m \u001b[0mbs\u001b[0m\u001b[0;34m(\u001b[0m\u001b[0mresponse\u001b[0m\u001b[0;34m.\u001b[0m\u001b[0mcontent\u001b[0m\u001b[0;34m,\u001b[0m \u001b[0;34m'html.parser'\u001b[0m\u001b[0;34m)\u001b[0m\u001b[0;34m\u001b[0m\u001b[0;34m\u001b[0m\u001b[0m\n\u001b[1;32m     11\u001b[0m \u001b[0;34m\u001b[0m\u001b[0m\n",
      "\u001b[0;31mTypeError\u001b[0m: not all arguments converted during string formatting"
     ]
    }
   ],
   "source": [
    "# loop 24 times\n",
    "\n",
    "reviewers1 = []\n",
    "reviewText1 = []\n",
    "\n",
    "for i in range(24):\n",
    "    # note that we format the string using i+1\n",
    "    # since the for loop starts at i=0 and ends at i=23 but we need i=1 to i=24\n",
    "    response = mySession.get(\"https://www.tripadvisor.ca/Restaurant_Review-g182186-d968524-Reviews-Home_Restaurant-Maple_Ridge_British_Columbia.html\" % str(i+1))\n",
    "    soup = bs(response.content, 'html.parser')\n",
    "    \n",
    "    # we find the table containing the reviews\n",
    "    reviewTable = soup.find(\"div\", {\"class\": \"ppr_rup ppr_priv_location_reviews_list_resp\"})\n",
    "    \n",
    "    # We retrieve the name of the reviewer\n",
    "    # notice that we are using 3 classes in the select command to find the correct html element\n",
    "  \n",
    "    reviewers1 = [r.get_text() for r in reviewTable.select(\".rev_wrap ui_columns is-multiline .prw_rup prw_reviews_member_info_resp .member_info\")]\n",
    "    \n",
    "    # retrieve the review text\n",
    "    \n",
    "    reviewText1 = [t.get_text() for t in reviewTable.select(\".rev_wrap ui_columns is-multiline .entry\")]\n"
   ]
  },
  {
   "cell_type": "code",
   "execution_count": null,
   "metadata": {},
   "outputs": [],
   "source": [
    "# Storing it to a dataframe\n",
    "\n",
    "import pandas as pd\n",
    "\n",
    "d = {\"reviewers\":reviewers1, \"reviewText\":reviewText1}\n",
    "\n",
    "df = pd.DataFrame(d)\n",
    "\n",
    "print(df)"
   ]
  }
 ],
 "metadata": {
  "kernelspec": {
   "display_name": "Python 3",
   "language": "python",
   "name": "python3"
  },
  "language_info": {
   "codemirror_mode": {
    "name": "ipython",
    "version": 3
   },
   "file_extension": ".py",
   "mimetype": "text/x-python",
   "name": "python",
   "nbconvert_exporter": "python",
   "pygments_lexer": "ipython3",
   "version": "3.8.5"
  }
 },
 "nbformat": 4,
 "nbformat_minor": 4
}
